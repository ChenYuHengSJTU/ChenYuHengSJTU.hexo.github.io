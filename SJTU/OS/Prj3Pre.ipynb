{
 "cells": [
  {
   "cell_type": "markdown",
   "id": "edfca727-4edf-4ba6-8d98-a370d1872593",
   "metadata": {
    "slideshow": {
     "background": {
      "image": "/home/cyh627/Files/GitBlog/MyBlog/source/SJTU/OS/1.百廿红-李一/1.百廿红-李一_01.png",
      "position": "center",
      "repeat": "no-repeat",
      "size": "100%"
     },
     "slide_type": "slide"
    },
    "tags": []
   },
   "source": [
    "<style>\n",
    "body {\n",
    "  background-image: url(\"http://localhost:8889/lab/tree/1.%E7%99%BE%E5%BB%BF%E7%BA%A2-%E6%9D%8E%E4%B8%80/1.%E7%99%BE%E5%BB%BF%E7%BA%A2-%E6%9D%8E%E4%B8%80_01.png\");\n",
    "  background-size: cover;\n",
    "}\n",
    "</style>"
   ]
  },
  {
   "cell_type": "markdown",
   "id": "d3a3f375-5813-4025-b542-c94babb5c4ae",
   "metadata": {
    "slideshow": {
     "slide_type": "subslide"
    },
    "tags": []
   },
   "source": []
  }
 ],
 "metadata": {
  "kernelspec": {
   "display_name": "Python 3 (ipykernel)",
   "language": "python",
   "name": "python3"
  },
  "language_info": {
   "codemirror_mode": {
    "name": "ipython",
    "version": 3
   },
   "file_extension": ".py",
   "mimetype": "text/x-python",
   "name": "python",
   "nbconvert_exporter": "python",
   "pygments_lexer": "ipython3",
   "version": "3.10.6"
  }
 },
 "nbformat": 4,
 "nbformat_minor": 5
}
